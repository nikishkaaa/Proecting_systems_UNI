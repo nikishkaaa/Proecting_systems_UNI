{
  "nbformat": 4,
  "nbformat_minor": 0,
  "metadata": {
    "colab": {
      "provenance": [],
      "authorship_tag": "ABX9TyM/MO5u+AKrZmZtuYT3cjOH",
      "include_colab_link": true
    },
    "kernelspec": {
      "name": "python3",
      "display_name": "Python 3"
    },
    "language_info": {
      "name": "python"
    }
  },
  "cells": [
    {
      "cell_type": "markdown",
      "metadata": {
        "id": "view-in-github",
        "colab_type": "text"
      },
      "source": [
        "<a href=\"https://colab.research.google.com/github/nikishkaaa/Proecting_systems_UNI/blob/main/Untitled1.ipynb\" target=\"_parent\"><img src=\"https://colab.research.google.com/assets/colab-badge.svg\" alt=\"Open In Colab\"/></a>"
      ]
    },
    {
      "cell_type": "code",
      "source": [
        "import numpy as np\n",
        "import json\n",
        "from concurrent.futures import ThreadPoolExecutor"
      ],
      "metadata": {
        "id": "EUjS2AKW5Ejp"
      },
      "execution_count": 2,
      "outputs": []
    },
    {
      "cell_type": "markdown",
      "source": [
        "### Код з лаб1"
      ],
      "metadata": {
        "id": "k2qXyQUE5Rme"
      }
    },
    {
      "cell_type": "code",
      "source": [
        "# Генерація 12 об'єктів\n",
        "n = 12\n",
        "objects = [f'Object_{i+1}' for i in range(n)]\n",
        "\n",
        "# Функції\n",
        "def input_objects():\n",
        "    obj_list = []\n",
        "    for _ in range(n):\n",
        "        obj = input(\"Enter object name: \")\n",
        "        obj_list.append(obj)\n",
        "    return obj_list\n",
        "\n",
        "def load_objects_from_json(file_path):\n",
        "    with open(file_path, 'r') as file:\n",
        "        return json.load(file)\n",
        "\n",
        "def create_pairwise_matrix(n):\n",
        "    return np.zeros((n, n))\n",
        "\n",
        "def pairwise_comparison(matrix, expert_name):\n",
        "    print(f\"{expert_name}, please perform pairwise comparisons.\")\n",
        "    for i in range(n):\n",
        "        for j in range(i + 1, n):\n",
        "            comparison = input(f\"Compare {objects[i]} and {objects[j]} (1 if first is better, 0 if second is better): \")\n",
        "            if comparison == '1':\n",
        "                matrix[i][j] = 1\n",
        "                matrix[j][i] = 0\n",
        "            elif comparison == '0':\n",
        "                matrix[i][j] = 0\n",
        "                matrix[j][i] = 1\n",
        "    return matrix\n",
        "\n",
        "def rank_objects(matrix):\n",
        "    ranks = np.sum(matrix, axis=1)\n",
        "    ranked_indices = np.argsort(-ranks)\n",
        "    ranked_objects = [objects[i] for i in ranked_indices]\n",
        "    return ranked_objects\n",
        "\n",
        "def log_expert_actions(log_file, action):\n",
        "    with open(log_file, 'a') as file:\n",
        "        file.write(action + '\\n')\n",
        "\n",
        "def save_pairwise_matrix(matrix, filename):\n",
        "    np.savetxt(filename, matrix, delimiter=',', header=','.join(objects), comments='')\n",
        "\n",
        "def analyze_rankings(rankings):\n",
        "    conflict_objects = set()\n",
        "    for i in range(len(rankings)):\n",
        "        for j in range(i + 1, len(rankings)):\n",
        "            if rankings[i] != rankings[j]:\n",
        "                conflict_objects.add(objects[i])\n",
        "                conflict_objects.add(objects[j])\n",
        "    return list(conflict_objects)\n",
        "\n",
        "# Основна логіка\n",
        "def expert_ranking(expert_name):\n",
        "    pairwise_matrix = create_pairwise_matrix(n)\n",
        "    pairwise_comparison(pairwise_matrix, expert_name)\n",
        "    ranked_objects = rank_objects(pairwise_matrix)\n",
        "    log_expert_actions('expert_actions.log', f\"{expert_name} completed pairwise comparisons.\")\n",
        "    return ranked_objects\n"
      ],
      "metadata": {
        "id": "ksF4X6Gz5T3m"
      },
      "execution_count": 3,
      "outputs": []
    },
    {
      "cell_type": "markdown",
      "source": [
        "### Визначення кількості експертів"
      ],
      "metadata": {
        "id": "F4Smk3A74NxO"
      }
    },
    {
      "cell_type": "code",
      "execution_count": 4,
      "metadata": {
        "id": "x7qgXzuZ4KjA"
      },
      "outputs": [],
      "source": [
        "experts = [\n",
        "    {\"name\": \"Expert 1\", \"email\": \"expert1@example.com\"},\n",
        "    {\"name\": \"Expert 2\", \"email\": \"expert2@example.com\"},\n",
        "    {\"name\": \"Expert 3\", \"email\": \"expert3@example.com\"},\n",
        "    {\"name\": \"Expert 4\", \"email\": \"expert4@example.com\"},\n",
        "]"
      ]
    },
    {
      "cell_type": "markdown",
      "source": [
        "###  Подання початкової множини об’єктів"
      ],
      "metadata": {
        "id": "aNYoBcNk4XCx"
      }
    },
    {
      "cell_type": "code",
      "source": [
        "def initialize_objects():\n",
        "    choice = input(\"Would you like to load objects from a JSON file or enter them manually? (json/manual): \").strip().lower()\n",
        "    if choice == 'json':\n",
        "        file_path = input(\"Enter the path to the JSON file: \").strip()\n",
        "        return load_objects_from_json(file_path)\n",
        "    elif choice == 'manual':\n",
        "        return input_objects()\n",
        "    else:\n",
        "        print(\"Invalid choice, please select 'json' or 'manual'.\")\n",
        "        return initialize_objects()\n",
        "\n",
        "# Завантажуємо об'єкти\n",
        "objects = initialize_objects()\n",
        "n = len(objects)  # Оновлюємо n відповідно до кількості об'єктів"
      ],
      "metadata": {
        "colab": {
          "base_uri": "https://localhost:8080/"
        },
        "id": "ISQ0axGH4Ye9",
        "outputId": "0a91175c-4a60-48f3-9dc2-70c209e38eb3"
      },
      "execution_count": 6,
      "outputs": [
        {
          "name": "stdout",
          "output_type": "stream",
          "text": [
            "Would you like to load objects from a JSON file or enter them manually? (json/manual): manual\n",
            "Enter object name: n1\n",
            "Enter object name: n2\n",
            "Enter object name: n3\n",
            "Enter object name: n4\n",
            "Enter object name: n5\n",
            "Enter object name: n6\n",
            "Enter object name: n7\n",
            "Enter object name: n8\n",
            "Enter object name: n9\n",
            "Enter object name: n10\n",
            "Enter object name: n11\n",
            "Enter object name: n12\n"
          ]
        }
      ]
    },
    {
      "cell_type": "markdown",
      "source": [
        "### Отримання індивідуальних ранжувань"
      ],
      "metadata": {
        "id": "lpBEWMsV52qV"
      }
    },
    {
      "cell_type": "code",
      "source": [
        "rankings = []\n",
        "\n",
        "for expert in experts:\n",
        "    ranked_objects = expert_ranking(expert['name'])\n",
        "    rankings.append(ranked_objects)111\n",
        "    111\n",
        "    11111111100101001111111100001110100001"
      ],
      "metadata": {
        "colab": {
          "base_uri": "https://localhost:8080/"
        },
        "id": "6ZZKHWnl6oUQ",
        "outputId": "4b2ba955-05b0-4d38-c477-8012625e57e4"
      },
      "execution_count": 5,
      "outputs": [
        {
          "name": "stdout",
          "output_type": "stream",
          "text": [
            "Expert 1, please perform pairwise comparisons.\n",
            "Compare Object_1 and Object_2 (1 if first is better, 0 if second is better): 1\n",
            "Compare Object_1 and Object_3 (1 if first is better, 0 if second is better): 1\n",
            "Compare Object_1 and Object_4 (1 if first is better, 0 if second is better): 0\n",
            "Compare Object_1 and Object_5 (1 if first is better, 0 if second is better): 1\n",
            "Compare Object_1 and Object_6 (1 if first is better, 0 if second is better): 1\n",
            "Compare Object_1 and Object_7 (1 if first is better, 0 if second is better): \n",
            "Compare Object_1 and Object_8 (1 if first is better, 0 if second is better): 1\n",
            "Compare Object_1 and Object_9 (1 if first is better, 0 if second is better): 0\n",
            "Compare Object_1 and Object_10 (1 if first is better, 0 if second is better): 0\n",
            "Compare Object_1 and Object_11 (1 if first is better, 0 if second is better): 0\n",
            "Compare Object_1 and Object_12 (1 if first is better, 0 if second is better): 1\n",
            "Compare Object_2 and Object_3 (1 if first is better, 0 if second is better): 1\n",
            "Compare Object_2 and Object_4 (1 if first is better, 0 if second is better): 1\n",
            "Compare Object_2 and Object_5 (1 if first is better, 0 if second is better): 0\n",
            "Compare Object_2 and Object_6 (1 if first is better, 0 if second is better): 0\n",
            "Compare Object_2 and Object_7 (1 if first is better, 0 if second is better): 1\n",
            "Compare Object_2 and Object_8 (1 if first is better, 0 if second is better): 1\n",
            "Compare Object_2 and Object_9 (1 if first is better, 0 if second is better): 1\n",
            "Compare Object_2 and Object_10 (1 if first is better, 0 if second is better): 0\n",
            "Compare Object_2 and Object_11 (1 if first is better, 0 if second is better): 0\n",
            "Compare Object_2 and Object_12 (1 if first is better, 0 if second is better): 0\n",
            "Compare Object_3 and Object_4 (1 if first is better, 0 if second is better): 0\n",
            "Compare Object_3 and Object_5 (1 if first is better, 0 if second is better): 1\n",
            "Compare Object_3 and Object_6 (1 if first is better, 0 if second is better): 1\n",
            "Compare Object_3 and Object_7 (1 if first is better, 0 if second is better): 1\n",
            "Compare Object_3 and Object_8 (1 if first is better, 0 if second is better): 1\n",
            "Compare Object_3 and Object_9 (1 if first is better, 0 if second is better): 1\n",
            "Compare Object_3 and Object_10 (1 if first is better, 0 if second is better): 1\n",
            "Compare Object_3 and Object_11 (1 if first is better, 0 if second is better): 0\n",
            "Compare Object_3 and Object_12 (1 if first is better, 0 if second is better): 0\n",
            "Compare Object_4 and Object_5 (1 if first is better, 0 if second is better): 0\n",
            "Compare Object_4 and Object_6 (1 if first is better, 0 if second is better): 0\n",
            "Compare Object_4 and Object_7 (1 if first is better, 0 if second is better): 0\n",
            "Compare Object_4 and Object_8 (1 if first is better, 0 if second is better): 1\n",
            "Compare Object_4 and Object_9 (1 if first is better, 0 if second is better): 1\n",
            "Compare Object_4 and Object_10 (1 if first is better, 0 if second is better): 1\n",
            "Compare Object_4 and Object_11 (1 if first is better, 0 if second is better): 1\n",
            "Compare Object_4 and Object_12 (1 if first is better, 0 if second is better): 0\n",
            "Compare Object_5 and Object_6 (1 if first is better, 0 if second is better): 0\n",
            "Compare Object_5 and Object_7 (1 if first is better, 0 if second is better): 0\n",
            "Compare Object_5 and Object_8 (1 if first is better, 0 if second is better): 1\n",
            "Compare Object_5 and Object_9 (1 if first is better, 0 if second is better): 1\n",
            "Compare Object_5 and Object_10 (1 if first is better, 0 if second is better): 0\n",
            "Compare Object_5 and Object_11 (1 if first is better, 0 if second is better): 0\n",
            "Compare Object_5 and Object_12 (1 if first is better, 0 if second is better): 0\n",
            "Compare Object_6 and Object_7 (1 if first is better, 0 if second is better): 1\n",
            "Compare Object_6 and Object_8 (1 if first is better, 0 if second is better): 1\n",
            "Compare Object_6 and Object_9 (1 if first is better, 0 if second is better): 0\n",
            "Compare Object_6 and Object_10 (1 if first is better, 0 if second is better): 0\n",
            "Compare Object_6 and Object_11 (1 if first is better, 0 if second is better): 1\n",
            "Compare Object_6 and Object_12 (1 if first is better, 0 if second is better): 1\n",
            "Compare Object_7 and Object_8 (1 if first is better, 0 if second is better): 1\n",
            "Compare Object_7 and Object_9 (1 if first is better, 0 if second is better): 1\n",
            "Compare Object_7 and Object_10 (1 if first is better, 0 if second is better): 1\n",
            "Compare Object_7 and Object_11 (1 if first is better, 0 if second is better): 1\n",
            "Compare Object_7 and Object_12 (1 if first is better, 0 if second is better): 0\n",
            "Compare Object_8 and Object_9 (1 if first is better, 0 if second is better): 0\n",
            "Compare Object_8 and Object_10 (1 if first is better, 0 if second is better): 0\n",
            "Compare Object_8 and Object_11 (1 if first is better, 0 if second is better): 0\n",
            "Compare Object_8 and Object_12 (1 if first is better, 0 if second is better): 0\n",
            "Compare Object_9 and Object_10 (1 if first is better, 0 if second is better): 0\n",
            "Compare Object_9 and Object_11 (1 if first is better, 0 if second is better): 0\n",
            "Compare Object_9 and Object_12 (1 if first is better, 0 if second is better): 0\n",
            "Compare Object_10 and Object_11 (1 if first is better, 0 if second is better): 0\n",
            "Compare Object_10 and Object_12 (1 if first is better, 0 if second is better): 0\n",
            "Compare Object_11 and Object_12 (1 if first is better, 0 if second is better): 1\n",
            "Expert 2, please perform pairwise comparisons.\n",
            "Compare Object_1 and Object_2 (1 if first is better, 0 if second is better): 1\n",
            "Compare Object_1 and Object_3 (1 if first is better, 0 if second is better): 1\n",
            "Compare Object_1 and Object_4 (1 if first is better, 0 if second is better): 1\n",
            "Compare Object_1 and Object_5 (1 if first is better, 0 if second is better): 1\n",
            "Compare Object_1 and Object_6 (1 if first is better, 0 if second is better): 1\n",
            "Compare Object_1 and Object_7 (1 if first is better, 0 if second is better): 1\n",
            "Compare Object_1 and Object_8 (1 if first is better, 0 if second is better): \n",
            "Compare Object_1 and Object_9 (1 if first is better, 0 if second is better): 1\n",
            "Compare Object_1 and Object_10 (1 if first is better, 0 if second is better): \n",
            "Compare Object_1 and Object_11 (1 if first is better, 0 if second is better): \n",
            "Compare Object_1 and Object_12 (1 if first is better, 0 if second is better): 1\n",
            "Compare Object_2 and Object_3 (1 if first is better, 0 if second is better): \n",
            "Compare Object_2 and Object_4 (1 if first is better, 0 if second is better): \n",
            "Compare Object_2 and Object_5 (1 if first is better, 0 if second is better): \n",
            "Compare Object_2 and Object_6 (1 if first is better, 0 if second is better): 1\n",
            "Compare Object_2 and Object_7 (1 if first is better, 0 if second is better): 1\n",
            "Compare Object_2 and Object_8 (1 if first is better, 0 if second is better): 1\n",
            "Compare Object_2 and Object_9 (1 if first is better, 0 if second is better): \n",
            "Compare Object_2 and Object_10 (1 if first is better, 0 if second is better): 1\n",
            "Compare Object_2 and Object_11 (1 if first is better, 0 if second is better): 0\n",
            "Compare Object_2 and Object_12 (1 if first is better, 0 if second is better): 0\n",
            "Compare Object_3 and Object_4 (1 if first is better, 0 if second is better): 0\n",
            "Compare Object_3 and Object_5 (1 if first is better, 0 if second is better): 0\n",
            "Compare Object_3 and Object_6 (1 if first is better, 0 if second is better): 0\n",
            "Compare Object_3 and Object_7 (1 if first is better, 0 if second is better): 0\n",
            "Compare Object_3 and Object_8 (1 if first is better, 0 if second is better): \n",
            "Compare Object_3 and Object_9 (1 if first is better, 0 if second is better): 1\n",
            "Compare Object_3 and Object_10 (1 if first is better, 0 if second is better): 1\n",
            "Compare Object_3 and Object_11 (1 if first is better, 0 if second is better): 1\n",
            "Compare Object_3 and Object_12 (1 if first is better, 0 if second is better): 1\n",
            "Compare Object_4 and Object_5 (1 if first is better, 0 if second is better): 1\n",
            "Compare Object_4 and Object_6 (1 if first is better, 0 if second is better): 1\n",
            "Compare Object_4 and Object_7 (1 if first is better, 0 if second is better): 1\n",
            "Compare Object_4 and Object_8 (1 if first is better, 0 if second is better): 1\n",
            "Compare Object_4 and Object_9 (1 if first is better, 0 if second is better): 1\n",
            "Compare Object_4 and Object_10 (1 if first is better, 0 if second is better): \n",
            "Compare Object_4 and Object_11 (1 if first is better, 0 if second is better): 1\n",
            "Compare Object_4 and Object_12 (1 if first is better, 0 if second is better): 1\n",
            "Compare Object_5 and Object_6 (1 if first is better, 0 if second is better): 1\n",
            "Compare Object_5 and Object_7 (1 if first is better, 0 if second is better): 1\n",
            "Compare Object_5 and Object_8 (1 if first is better, 0 if second is better): 1\n",
            "Compare Object_5 and Object_9 (1 if first is better, 0 if second is better): 1\n",
            "Compare Object_5 and Object_10 (1 if first is better, 0 if second is better): 1\n",
            "Compare Object_5 and Object_11 (1 if first is better, 0 if second is better): 1\n",
            "Compare Object_5 and Object_12 (1 if first is better, 0 if second is better): 1\n",
            "Compare Object_6 and Object_7 (1 if first is better, 0 if second is better): 1\n",
            "Compare Object_6 and Object_8 (1 if first is better, 0 if second is better): \n",
            "Compare Object_6 and Object_9 (1 if first is better, 0 if second is better): 0\n",
            "Compare Object_6 and Object_10 (1 if first is better, 0 if second is better): 0\n",
            "Compare Object_6 and Object_11 (1 if first is better, 0 if second is better): 0\n",
            "Compare Object_6 and Object_12 (1 if first is better, 0 if second is better): \n",
            "Compare Object_7 and Object_8 (1 if first is better, 0 if second is better): 1\n",
            "Compare Object_7 and Object_9 (1 if first is better, 0 if second is better): 1\n",
            "Compare Object_7 and Object_10 (1 if first is better, 0 if second is better): 1\n",
            "Compare Object_7 and Object_11 (1 if first is better, 0 if second is better): 1\n",
            "Compare Object_7 and Object_12 (1 if first is better, 0 if second is better): 1\n",
            "Compare Object_8 and Object_9 (1 if first is better, 0 if second is better): \n",
            "Compare Object_8 and Object_10 (1 if first is better, 0 if second is better): 1\n",
            "Compare Object_8 and Object_11 (1 if first is better, 0 if second is better): 1\n",
            "Compare Object_8 and Object_12 (1 if first is better, 0 if second is better): 0\n",
            "Compare Object_9 and Object_10 (1 if first is better, 0 if second is better): 0\n",
            "Compare Object_9 and Object_11 (1 if first is better, 0 if second is better): 0\n",
            "Compare Object_9 and Object_12 (1 if first is better, 0 if second is better): 0\n",
            "Compare Object_10 and Object_11 (1 if first is better, 0 if second is better): 0\n",
            "Compare Object_10 and Object_12 (1 if first is better, 0 if second is better): 0\n",
            "Compare Object_11 and Object_12 (1 if first is better, 0 if second is better): 1\n",
            "Expert 3, please perform pairwise comparisons.\n",
            "Compare Object_1 and Object_2 (1 if first is better, 0 if second is better): 1\n",
            "Compare Object_1 and Object_3 (1 if first is better, 0 if second is better): 1\n",
            "Compare Object_1 and Object_4 (1 if first is better, 0 if second is better): 1\n",
            "Compare Object_1 and Object_5 (1 if first is better, 0 if second is better): 1\n",
            "Compare Object_1 and Object_6 (1 if first is better, 0 if second is better): 0\n",
            "Compare Object_1 and Object_7 (1 if first is better, 0 if second is better): 0\n",
            "Compare Object_1 and Object_8 (1 if first is better, 0 if second is better): 0\n",
            "Compare Object_1 and Object_9 (1 if first is better, 0 if second is better): 1\n",
            "Compare Object_1 and Object_10 (1 if first is better, 0 if second is better): 1\n",
            "Compare Object_1 and Object_11 (1 if first is better, 0 if second is better): 1\n",
            "Compare Object_1 and Object_12 (1 if first is better, 0 if second is better): 0\n",
            "Compare Object_2 and Object_3 (1 if first is better, 0 if second is better): 0\n",
            "Compare Object_2 and Object_4 (1 if first is better, 0 if second is better): 0\n",
            "Compare Object_2 and Object_5 (1 if first is better, 0 if second is better): 0\n",
            "Compare Object_2 and Object_6 (1 if first is better, 0 if second is better): 0\n",
            "Compare Object_2 and Object_7 (1 if first is better, 0 if second is better): 0\n",
            "Compare Object_2 and Object_8 (1 if first is better, 0 if second is better): 1\n",
            "Compare Object_2 and Object_9 (1 if first is better, 0 if second is better): 1\n",
            "Compare Object_2 and Object_10 (1 if first is better, 0 if second is better): 0\n",
            "Compare Object_2 and Object_11 (1 if first is better, 0 if second is better): 1\n",
            "Compare Object_2 and Object_12 (1 if first is better, 0 if second is better): 1\n",
            "Compare Object_3 and Object_4 (1 if first is better, 0 if second is better): 0\n",
            "Compare Object_3 and Object_5 (1 if first is better, 0 if second is better): 1\n",
            "Compare Object_3 and Object_6 (1 if first is better, 0 if second is better): 1\n",
            "Compare Object_3 and Object_7 (1 if first is better, 0 if second is better): \n",
            "Compare Object_3 and Object_8 (1 if first is better, 0 if second is better): 0\n",
            "Compare Object_3 and Object_9 (1 if first is better, 0 if second is better): 1\n",
            "Compare Object_3 and Object_10 (1 if first is better, 0 if second is better): 1\n",
            "Compare Object_3 and Object_11 (1 if first is better, 0 if second is better): 1\n",
            "Compare Object_3 and Object_12 (1 if first is better, 0 if second is better): 1\n",
            "Compare Object_4 and Object_5 (1 if first is better, 0 if second is better): 1\n",
            "Compare Object_4 and Object_6 (1 if first is better, 0 if second is better): \n",
            "Compare Object_4 and Object_7 (1 if first is better, 0 if second is better): 0\n",
            "Compare Object_4 and Object_8 (1 if first is better, 0 if second is better): \n",
            "Compare Object_4 and Object_9 (1 if first is better, 0 if second is better): 0\n",
            "Compare Object_4 and Object_10 (1 if first is better, 0 if second is better): \n",
            "Compare Object_4 and Object_11 (1 if first is better, 0 if second is better): 1\n",
            "Compare Object_4 and Object_12 (1 if first is better, 0 if second is better): 1\n",
            "Compare Object_5 and Object_6 (1 if first is better, 0 if second is better): 1\n",
            "Compare Object_5 and Object_7 (1 if first is better, 0 if second is better): \n",
            "Compare Object_5 and Object_8 (1 if first is better, 0 if second is better): \n",
            "Compare Object_5 and Object_9 (1 if first is better, 0 if second is better): 1\n",
            "Compare Object_5 and Object_10 (1 if first is better, 0 if second is better): \n",
            "Compare Object_5 and Object_11 (1 if first is better, 0 if second is better): 1\n",
            "Compare Object_5 and Object_12 (1 if first is better, 0 if second is better): 1\n",
            "Compare Object_6 and Object_7 (1 if first is better, 0 if second is better): 1\n",
            "Compare Object_6 and Object_8 (1 if first is better, 0 if second is better): 1\n",
            "Compare Object_6 and Object_9 (1 if first is better, 0 if second is better): 1\n",
            "Compare Object_6 and Object_10 (1 if first is better, 0 if second is better): 1\n",
            "Compare Object_6 and Object_11 (1 if first is better, 0 if second is better): \n",
            "Compare Object_6 and Object_12 (1 if first is better, 0 if second is better): 1\n",
            "Compare Object_7 and Object_8 (1 if first is better, 0 if second is better): 1\n",
            "Compare Object_7 and Object_9 (1 if first is better, 0 if second is better): \n",
            "Compare Object_7 and Object_10 (1 if first is better, 0 if second is better): 1\n",
            "Compare Object_7 and Object_11 (1 if first is better, 0 if second is better): 1\n",
            "Compare Object_7 and Object_12 (1 if first is better, 0 if second is better): 1\n",
            "Compare Object_8 and Object_9 (1 if first is better, 0 if second is better): 1\n",
            "Compare Object_8 and Object_10 (1 if first is better, 0 if second is better): 1\n",
            "Compare Object_8 and Object_11 (1 if first is better, 0 if second is better): 1\n",
            "Compare Object_8 and Object_12 (1 if first is better, 0 if second is better): \n",
            "Compare Object_9 and Object_10 (1 if first is better, 0 if second is better): \n",
            "Compare Object_9 and Object_11 (1 if first is better, 0 if second is better): 0\n",
            "Compare Object_9 and Object_12 (1 if first is better, 0 if second is better): 0\n",
            "Compare Object_10 and Object_11 (1 if first is better, 0 if second is better): \n",
            "Compare Object_10 and Object_12 (1 if first is better, 0 if second is better): 0\n",
            "Compare Object_11 and Object_12 (1 if first is better, 0 if second is better): 0\n",
            "Expert 4, please perform pairwise comparisons.\n",
            "Compare Object_1 and Object_2 (1 if first is better, 0 if second is better): 0\n",
            "Compare Object_1 and Object_3 (1 if first is better, 0 if second is better): 0\n",
            "Compare Object_1 and Object_4 (1 if first is better, 0 if second is better): 0\n",
            "Compare Object_1 and Object_5 (1 if first is better, 0 if second is better): 0\n",
            "Compare Object_1 and Object_6 (1 if first is better, 0 if second is better): 0\n",
            "Compare Object_1 and Object_7 (1 if first is better, 0 if second is better): 0\n",
            "Compare Object_1 and Object_8 (1 if first is better, 0 if second is better): 0\n",
            "Compare Object_1 and Object_9 (1 if first is better, 0 if second is better): 1\n",
            "Compare Object_1 and Object_10 (1 if first is better, 0 if second is better): 1\n",
            "Compare Object_1 and Object_11 (1 if first is better, 0 if second is better): 1\n",
            "Compare Object_1 and Object_12 (1 if first is better, 0 if second is better): 1\n",
            "Compare Object_2 and Object_3 (1 if first is better, 0 if second is better): 1\n",
            "Compare Object_2 and Object_4 (1 if first is better, 0 if second is better): 1\n",
            "Compare Object_2 and Object_5 (1 if first is better, 0 if second is better): 1\n",
            "Compare Object_2 and Object_6 (1 if first is better, 0 if second is better): 1\n",
            "Compare Object_2 and Object_7 (1 if first is better, 0 if second is better): 1\n",
            "Compare Object_2 and Object_8 (1 if first is better, 0 if second is better): 1\n",
            "Compare Object_2 and Object_9 (1 if first is better, 0 if second is better): 1\n",
            "Compare Object_2 and Object_10 (1 if first is better, 0 if second is better): 1\n",
            "Compare Object_2 and Object_11 (1 if first is better, 0 if second is better): 1\n",
            "Compare Object_2 and Object_12 (1 if first is better, 0 if second is better): 1\n",
            "Compare Object_3 and Object_4 (1 if first is better, 0 if second is better): 1\n",
            "Compare Object_3 and Object_5 (1 if first is better, 0 if second is better): 1\n",
            "Compare Object_3 and Object_6 (1 if first is better, 0 if second is better): 1\n",
            "Compare Object_3 and Object_7 (1 if first is better, 0 if second is better): \n",
            "Compare Object_3 and Object_8 (1 if first is better, 0 if second is better): 1\n",
            "Compare Object_3 and Object_9 (1 if first is better, 0 if second is better): \n",
            "Compare Object_3 and Object_10 (1 if first is better, 0 if second is better): 1\n",
            "Compare Object_3 and Object_11 (1 if first is better, 0 if second is better): 1\n",
            "Compare Object_3 and Object_12 (1 if first is better, 0 if second is better): 1\n",
            "Compare Object_4 and Object_5 (1 if first is better, 0 if second is better): 1\n",
            "Compare Object_4 and Object_6 (1 if first is better, 0 if second is better): 1\n",
            "Compare Object_4 and Object_7 (1 if first is better, 0 if second is better): 1\n",
            "Compare Object_4 and Object_8 (1 if first is better, 0 if second is better): 1\n",
            "Compare Object_4 and Object_9 (1 if first is better, 0 if second is better): 1\n",
            "Compare Object_4 and Object_10 (1 if first is better, 0 if second is better): 1\n",
            "Compare Object_4 and Object_11 (1 if first is better, 0 if second is better): \n",
            "Compare Object_4 and Object_12 (1 if first is better, 0 if second is better): 0\n",
            "Compare Object_5 and Object_6 (1 if first is better, 0 if second is better): 0\n",
            "Compare Object_5 and Object_7 (1 if first is better, 0 if second is better): 0\n",
            "Compare Object_5 and Object_8 (1 if first is better, 0 if second is better): 0\n",
            "Compare Object_5 and Object_9 (1 if first is better, 0 if second is better): 0\n",
            "Compare Object_5 and Object_10 (1 if first is better, 0 if second is better): 0\n",
            "Compare Object_5 and Object_11 (1 if first is better, 0 if second is better): 0\n",
            "Compare Object_5 and Object_12 (1 if first is better, 0 if second is better): 1\n",
            "Compare Object_6 and Object_7 (1 if first is better, 0 if second is better): 1\n",
            "Compare Object_6 and Object_8 (1 if first is better, 0 if second is better): 1\n",
            "Compare Object_6 and Object_9 (1 if first is better, 0 if second is better): 1\n",
            "Compare Object_6 and Object_10 (1 if first is better, 0 if second is better): 1\n",
            "Compare Object_6 and Object_11 (1 if first is better, 0 if second is better): 1\n",
            "Compare Object_6 and Object_12 (1 if first is better, 0 if second is better): 1\n",
            "Compare Object_7 and Object_8 (1 if first is better, 0 if second is better): 0\n",
            "Compare Object_7 and Object_9 (1 if first is better, 0 if second is better): 0\n",
            "Compare Object_7 and Object_10 (1 if first is better, 0 if second is better): 0\n",
            "Compare Object_7 and Object_11 (1 if first is better, 0 if second is better): 0\n",
            "Compare Object_7 and Object_12 (1 if first is better, 0 if second is better): 0\n",
            "Compare Object_8 and Object_9 (1 if first is better, 0 if second is better): 0\n",
            "Compare Object_8 and Object_10 (1 if first is better, 0 if second is better): 0\n",
            "Compare Object_8 and Object_11 (1 if first is better, 0 if second is better): 1\n",
            "Compare Object_8 and Object_12 (1 if first is better, 0 if second is better): 1\n",
            "Compare Object_9 and Object_10 (1 if first is better, 0 if second is better): 1\n",
            "Compare Object_9 and Object_11 (1 if first is better, 0 if second is better): 1\n",
            "Compare Object_9 and Object_12 (1 if first is better, 0 if second is better): 0\n",
            "Compare Object_10 and Object_11 (1 if first is better, 0 if second is better): 0\n",
            "Compare Object_10 and Object_12 (1 if first is better, 0 if second is better): 0\n",
            "Compare Object_11 and Object_12 (1 if first is better, 0 if second is better): 0\n"
          ]
        }
      ]
    },
    {
      "cell_type": "markdown",
      "source": [
        "###  Попередній аналіз отриманої інформації"
      ],
      "metadata": {
        "id": "dxWFQhua7uZ-"
      }
    },
    {
      "cell_type": "code",
      "source": [
        "conflicts = analyze_rankings(rankings)\n",
        "if conflicts:\n",
        "    print(\"Conflicting objects found:\", conflicts)\n",
        "else:\n",
        "    print(\"No conflicts found.\")\n"
      ],
      "metadata": {
        "colab": {
          "base_uri": "https://localhost:8080/"
        },
        "id": "GYegJ8Pz7xMO",
        "outputId": "d1521ecf-3dfc-45da-d50e-f42cef25f54b"
      },
      "execution_count": 6,
      "outputs": [
        {
          "output_type": "stream",
          "name": "stdout",
          "text": [
            "Conflicting objects found: ['Object_3', 'Object_1', 'Object_4', 'Object_2']\n"
          ]
        }
      ]
    },
    {
      "cell_type": "markdown",
      "source": [
        "### Записати в файл матрицю з номерами об’єктів та їх рангами"
      ],
      "metadata": {
        "id": "04jZ3LWh7zf_"
      }
    },
    {
      "cell_type": "code",
      "source": [
        "\n",
        "with open('ranked_objects.csv', 'w') as f:\n",
        "    f.write(\"Expert,Object_Rank,Object\\n\")\n",
        "    for i, ranking in enumerate(rankings):\n",
        "        for rank, obj in enumerate(ranking, start=1):\n",
        "            f.write(f\"{experts[i]['name']},{rank},{obj}\\n\")\n",
        "\n",
        "print(\"Rankings saved to 'ranked_objects.csv'.\")\n"
      ],
      "metadata": {
        "colab": {
          "base_uri": "https://localhost:8080/"
        },
        "id": "HpgTp14072CA",
        "outputId": "f7e966fa-0cd3-4cc9-bc43-e137fdaba38d"
      },
      "execution_count": 9,
      "outputs": [
        {
          "output_type": "stream",
          "name": "stdout",
          "text": [
            "Rankings saved to 'ranked_objects.csv'.\n"
          ]
        }
      ]
    }
  ]
}