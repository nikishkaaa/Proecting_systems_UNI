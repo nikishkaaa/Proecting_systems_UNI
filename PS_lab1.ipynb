{
  "nbformat": 4,
  "nbformat_minor": 0,
  "metadata": {
    "colab": {
      "provenance": [],
      "authorship_tag": "ABX9TyNoDv5rgktjG8dpIU9iIDWe",
      "include_colab_link": true
    },
    "kernelspec": {
      "name": "python3",
      "display_name": "Python 3"
    },
    "language_info": {
      "name": "python"
    }
  },
  "cells": [
    {
      "cell_type": "markdown",
      "metadata": {
        "id": "view-in-github",
        "colab_type": "text"
      },
      "source": [
        "<a href=\"https://colab.research.google.com/github/nikishkaaa/Proecting_systems_UNI/blob/main/PS_lab1.ipynb\" target=\"_parent\"><img src=\"https://colab.research.google.com/assets/colab-badge.svg\" alt=\"Open In Colab\"/></a>"
      ]
    },
    {
      "cell_type": "markdown",
      "source": [
        "### Генерація множини об’єктів"
      ],
      "metadata": {
        "id": "NLQyWQOmslG3"
      }
    },
    {
      "cell_type": "code",
      "source": [
        "n = 12\n",
        "objects = [f'Object_{i+1}' for i in range(n)]\n",
        "print(\"Generated objects:\", objects)"
      ],
      "metadata": {
        "colab": {
          "base_uri": "https://localhost:8080/"
        },
        "id": "vOkhMTqmsnTs",
        "outputId": "37f9f959-8fe1-4053-869d-f9deb908a3c1"
      },
      "execution_count": 1,
      "outputs": [
        {
          "output_type": "stream",
          "name": "stdout",
          "text": [
            "Generated objects: ['Object_1', 'Object_2', 'Object_3', 'Object_4', 'Object_5', 'Object_6', 'Object_7', 'Object_8', 'Object_9', 'Object_10', 'Object_11', 'Object_12']\n"
          ]
        }
      ]
    },
    {
      "cell_type": "markdown",
      "source": [
        "### Введення даних про об’єкти"
      ],
      "metadata": {
        "id": "-6KGDk8Rsuya"
      }
    },
    {
      "cell_type": "code",
      "source": [
        "## запис даних в файл\n",
        "import json\n",
        "\n",
        "objects = [\n",
        "    \"Object_1\",\n",
        "    \"Object_2\",\n",
        "    \"Object_3\",\n",
        "    \"Object_4\",\n",
        "    \"Object_5\",\n",
        "    \"Object_6\",\n",
        "    \"Object_7\",\n",
        "    \"Object_8\",\n",
        "    \"Object_9\",\n",
        "    \"Object_10\",\n",
        "    \"Object_11\",\n",
        "    \"Object_12\"\n",
        "]\n",
        "\n",
        "# Запис об'єктів у файл\n",
        "with open('objects.json', 'w') as file:\n",
        "    json.dump(objects, file)"
      ],
      "metadata": {
        "id": "kg9qG8f9tINT"
      },
      "execution_count": 3,
      "outputs": []
    },
    {
      "cell_type": "code",
      "source": [
        "#  введення з екрану\n",
        "def input_objects():\n",
        "    obj_list = []\n",
        "    for _ in range(n):\n",
        "        obj = input(\"Enter object name: \")\n",
        "        obj_list.append(obj)\n",
        "    return obj_list\n",
        "\n",
        "# Функція для завантаження з JSON\n",
        "def load_objects_from_json(file_path):\n",
        "    with open(file_path, 'r') as file:\n",
        "        return json.load(file)\n",
        "\n",
        "\n",
        "json_objects = load_objects_from_json('objects.json')\n"
      ],
      "metadata": {
        "id": "6z6qGEm8swIy"
      },
      "execution_count": 5,
      "outputs": []
    },
    {
      "cell_type": "markdown",
      "source": [
        "### Процедури попарних та множинних порівнянь"
      ],
      "metadata": {
        "id": "cYk7NizftVTq"
      }
    },
    {
      "cell_type": "code",
      "source": [
        "import numpy as np\n",
        "\n",
        "#матриця попарних порівнянь\n",
        "def create_pairwise_matrix(n):\n",
        "    return np.zeros((n, n))\n",
        "\n",
        "def pairwise_comparison(matrix):\n",
        "    for i in range(n):\n",
        "        for j in range(i + 1, n):\n",
        "            comparison = input(f\"Compare {objects[i]} and {objects[j]} (1 if first is better, 0 if second is better): \")\n",
        "            if comparison == '1':\n",
        "                matrix[i][j] = 1\n",
        "                matrix[j][i] = 0\n",
        "            elif comparison == '0':\n",
        "                matrix[i][j] = 0\n",
        "                matrix[j][i] = 1\n",
        "    return matrix\n"
      ],
      "metadata": {
        "id": "jpHm5biKtWw1"
      },
      "execution_count": 6,
      "outputs": []
    },
    {
      "cell_type": "markdown",
      "source": [
        "### Ранжування об’єктів"
      ],
      "metadata": {
        "id": "E_v6oJFBteYq"
      }
    },
    {
      "cell_type": "code",
      "source": [
        "def rank_objects(matrix):\n",
        "    ranks = np.sum(matrix, axis=1)\n",
        "    ranked_indices = np.argsort(-ranks)  # Від найвищого до найнижчого\n",
        "    ranked_objects = [objects[i] for i in ranked_indices]\n",
        "    return ranked_objects\n",
        "\n",
        "pairwise_matrix = create_pairwise_matrix(n)\n",
        "pairwise_comparison(pairwise_matrix)\n",
        "ranked_objects = rank_objects(pairwise_matrix)\n",
        "\n",
        "print(\"Ranked Objects:\", ranked_objects)\n",
        "00"
      ],
      "metadata": {
        "colab": {
          "base_uri": "https://localhost:8080/"
        },
        "id": "nDRqAHeHtf1p",
        "outputId": "18d84d63-27e2-4623-9a5d-280fb8991cfc"
      },
      "execution_count": 7,
      "outputs": [
        {
          "output_type": "stream",
          "name": "stdout",
          "text": [
            "Compare Object_1 and Object_2 (1 if first is better, 0 if second is better): 1\n",
            "Compare Object_1 and Object_3 (1 if first is better, 0 if second is better): 0\n",
            "Compare Object_1 and Object_4 (1 if first is better, 0 if second is better): 1\n",
            "Compare Object_1 and Object_5 (1 if first is better, 0 if second is better): 1\n",
            "Compare Object_1 and Object_6 (1 if first is better, 0 if second is better): 1\n",
            "Compare Object_1 and Object_7 (1 if first is better, 0 if second is better): 0\n",
            "Compare Object_1 and Object_8 (1 if first is better, 0 if second is better): 1\n",
            "Compare Object_1 and Object_9 (1 if first is better, 0 if second is better): 0\n",
            "Compare Object_1 and Object_10 (1 if first is better, 0 if second is better): 1\n",
            "Compare Object_1 and Object_11 (1 if first is better, 0 if second is better): 1\n",
            "Compare Object_1 and Object_12 (1 if first is better, 0 if second is better): 1\n",
            "Compare Object_2 and Object_3 (1 if first is better, 0 if second is better): 1\n",
            "Compare Object_2 and Object_4 (1 if first is better, 0 if second is better): 1\n",
            "Compare Object_2 and Object_5 (1 if first is better, 0 if second is better): 1\n",
            "Compare Object_2 and Object_6 (1 if first is better, 0 if second is better): 1\n",
            "Compare Object_2 and Object_7 (1 if first is better, 0 if second is better): 0\n",
            "Compare Object_2 and Object_8 (1 if first is better, 0 if second is better): 0\n",
            "Compare Object_2 and Object_9 (1 if first is better, 0 if second is better): 0\n",
            "Compare Object_2 and Object_10 (1 if first is better, 0 if second is better): 0\n",
            "Compare Object_2 and Object_11 (1 if first is better, 0 if second is better): 0\n",
            "Compare Object_2 and Object_12 (1 if first is better, 0 if second is better): 1\n",
            "Compare Object_3 and Object_4 (1 if first is better, 0 if second is better): 1\n",
            "Compare Object_3 and Object_5 (1 if first is better, 0 if second is better): 1\n",
            "Compare Object_3 and Object_6 (1 if first is better, 0 if second is better): 1\n",
            "Compare Object_3 and Object_7 (1 if first is better, 0 if second is better): 0\n",
            "Compare Object_3 and Object_8 (1 if first is better, 0 if second is better): 0\n",
            "Compare Object_3 and Object_9 (1 if first is better, 0 if second is better): 0\n",
            "Compare Object_3 and Object_10 (1 if first is better, 0 if second is better): 0\n",
            "Compare Object_3 and Object_11 (1 if first is better, 0 if second is better): 1\n",
            "Compare Object_3 and Object_12 (1 if first is better, 0 if second is better): 1\n",
            "Compare Object_4 and Object_5 (1 if first is better, 0 if second is better): 1\n",
            "Compare Object_4 and Object_6 (1 if first is better, 0 if second is better): 1\n",
            "Compare Object_4 and Object_7 (1 if first is better, 0 if second is better): 1\n",
            "Compare Object_4 and Object_8 (1 if first is better, 0 if second is better): 0\n",
            "Compare Object_4 and Object_9 (1 if first is better, 0 if second is better): 0\n",
            "Compare Object_4 and Object_10 (1 if first is better, 0 if second is better): 0\n",
            "Compare Object_4 and Object_11 (1 if first is better, 0 if second is better): 0\n",
            "Compare Object_4 and Object_12 (1 if first is better, 0 if second is better): 0\n",
            "Compare Object_5 and Object_6 (1 if first is better, 0 if second is better): 0\n",
            "Compare Object_5 and Object_7 (1 if first is better, 0 if second is better): 0\n",
            "Compare Object_5 and Object_8 (1 if first is better, 0 if second is better): 0\n",
            "Compare Object_5 and Object_9 (1 if first is better, 0 if second is better): 0\n",
            "Compare Object_5 and Object_10 (1 if first is better, 0 if second is better): 1\n",
            "Compare Object_5 and Object_11 (1 if first is better, 0 if second is better): 1\n",
            "Compare Object_5 and Object_12 (1 if first is better, 0 if second is better): 1\n",
            "Compare Object_6 and Object_7 (1 if first is better, 0 if second is better): 0\n",
            "Compare Object_6 and Object_8 (1 if first is better, 0 if second is better): 1\n",
            "Compare Object_6 and Object_9 (1 if first is better, 0 if second is better): 1\n",
            "Compare Object_6 and Object_10 (1 if first is better, 0 if second is better): 0\n",
            "Compare Object_6 and Object_11 (1 if first is better, 0 if second is better): 0\n",
            "Compare Object_6 and Object_12 (1 if first is better, 0 if second is better): 0\n",
            "Compare Object_7 and Object_8 (1 if first is better, 0 if second is better): 1\n",
            "Compare Object_7 and Object_9 (1 if first is better, 0 if second is better): 1\n",
            "Compare Object_7 and Object_10 (1 if first is better, 0 if second is better): 1\n",
            "Compare Object_7 and Object_11 (1 if first is better, 0 if second is better): 0\n",
            "Compare Object_7 and Object_12 (1 if first is better, 0 if second is better): 1\n",
            "Compare Object_8 and Object_9 (1 if first is better, 0 if second is better): 1\n",
            "Compare Object_8 and Object_10 (1 if first is better, 0 if second is better): 1\n",
            "Compare Object_8 and Object_11 (1 if first is better, 0 if second is better): 1\n",
            "Compare Object_8 and Object_12 (1 if first is better, 0 if second is better): 1\n",
            "Compare Object_9 and Object_10 (1 if first is better, 0 if second is better): 1\n",
            "Compare Object_9 and Object_11 (1 if first is better, 0 if second is better): 0\n",
            "Compare Object_9 and Object_12 (1 if first is better, 0 if second is better): 0\n",
            "Compare Object_10 and Object_11 (1 if first is better, 0 if second is better): 0\n",
            "Compare Object_10 and Object_12 (1 if first is better, 0 if second is better): \n",
            "Compare Object_11 and Object_12 (1 if first is better, 0 if second is better): 0\n",
            "Ranked Objects: ['Object_7', 'Object_1', 'Object_8', 'Object_3', 'Object_9', 'Object_11', 'Object_2', 'Object_10', 'Object_12', 'Object_4', 'Object_5', 'Object_6']\n"
          ]
        }
      ]
    },
    {
      "cell_type": "markdown",
      "source": [
        "### Протоколювання дій експерта"
      ],
      "metadata": {
        "id": "qZRtrdvht6ss"
      }
    },
    {
      "cell_type": "code",
      "source": [
        "def log_expert_actions(log_file, action):\n",
        "    with open(log_file, 'a') as file:\n",
        "        file.write(action + '\\n')\n",
        "\n",
        "\n",
        "log_file = 'expert_actions.log'\n",
        "log_expert_actions(log_file, \"Started pairwise comparisons.\")\n"
      ],
      "metadata": {
        "id": "31bCCfGnt7kk"
      },
      "execution_count": 8,
      "outputs": []
    },
    {
      "cell_type": "markdown",
      "source": [
        "### Запис матриці попарних порівнянь у файл"
      ],
      "metadata": {
        "id": "QsU0hCtOuApG"
      }
    },
    {
      "cell_type": "code",
      "source": [
        "def save_pairwise_matrix(matrix, filename):\n",
        "    np.savetxt(filename, matrix, delimiter=',', header=','.join(objects), comments='')\n",
        "\n",
        "\n",
        "save_pairwise_matrix(pairwise_matrix, 'pairwise_matrix.csv')\n"
      ],
      "metadata": {
        "id": "zRZaJExFt-kS"
      },
      "execution_count": 9,
      "outputs": []
    }
  ]
}